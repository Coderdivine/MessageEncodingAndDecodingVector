{
  "nbformat": 4,
  "nbformat_minor": 0,
  "metadata": {
    "colab": {
      "provenance": [],
      "authorship_tag": "ABX9TyMqvg9axjtT0fC5jjHYiXJo",
      "include_colab_link": true
    },
    "kernelspec": {
      "name": "python3",
      "display_name": "Python 3"
    },
    "language_info": {
      "name": "python"
    }
  },
  "cells": [
    {
      "cell_type": "markdown",
      "metadata": {
        "id": "view-in-github",
        "colab_type": "text"
      },
      "source": [
        "<a href=\"https://colab.research.google.com/github/Coderdivine/MessageEncodingAndDecodingVector/blob/main/encodeDecodeMsg.ipynb\" target=\"_parent\"><img src=\"https://colab.research.google.com/assets/colab-badge.svg\" alt=\"Open In Colab\"/></a>"
      ]
    },
    {
      "cell_type": "markdown",
      "source": [
        "**Import required Modules**"
      ],
      "metadata": {
        "id": "r5XRnvL50uzs"
      }
    },
    {
      "cell_type": "code",
      "execution_count": 4,
      "metadata": {
        "id": "vTJ7cZNX0Bve"
      },
      "outputs": [],
      "source": [
        "import numpy as np\n",
        "import string"
      ]
    },
    {
      "cell_type": "markdown",
      "source": [
        "**Create Encoding vector/Metrics**"
      ],
      "metadata": {
        "id": "t1FesMdQ0o80"
      }
    },
    {
      "cell_type": "code",
      "source": [
        "encoding_vector = np.array([3,5,6,7]);"
      ],
      "metadata": {
        "id": "-lZl58LK0G2U"
      },
      "execution_count": 22,
      "outputs": []
    },
    {
      "cell_type": "markdown",
      "source": [
        "**Output a dictionary that maps numbers to their corresponding letters in the alphabet**"
      ],
      "metadata": {
        "id": "m1HVrDac1c-Y"
      }
    },
    {
      "cell_type": "code",
      "source": [
        "import string\n",
        "\n",
        "alphabet = string.ascii_uppercase\n",
        "\n",
        "num_to_alpha = {}\n",
        "for i in range(1, 27):    \n",
        "     #(27-1 = 26 alphabet)\n",
        "    num_to_alpha[i] = alphabet[i-1];\n",
        "\n",
        "print(num_to_alpha);\n"
      ],
      "metadata": {
        "colab": {
          "base_uri": "https://localhost:8080/"
        },
        "id": "pFJhacCN0VOA",
        "outputId": "54318d4d-bad9-45f7-ae4b-c612003fe827"
      },
      "execution_count": 23,
      "outputs": [
        {
          "output_type": "stream",
          "name": "stdout",
          "text": [
            "{1: 'A', 2: 'B', 3: 'C', 4: 'D', 5: 'E', 6: 'F', 7: 'G', 8: 'H', 9: 'I', 10: 'J', 11: 'K', 12: 'L', 13: 'M', 14: 'N', 15: 'O', 16: 'P', 17: 'Q', 18: 'R', 19: 'S', 20: 'T', 21: 'U', 22: 'V', 23: 'W', 24: 'X', 25: 'Y', 26: 'Z'}\n"
          ]
        }
      ]
    },
    {
      "cell_type": "markdown",
      "source": [
        "**Converting Messages to Numpy array(vectors)**"
      ],
      "metadata": {
        "id": "es7QVplF2ihK"
      }
    },
    {
      "cell_type": "code",
      "source": [
        "alphabet = string.ascii_lowercase\n",
        "\n",
        "# Create a dictionary mapping letters to their index in the alphabet\n",
        "alpha_to_num = {letter: index for index, letter in enumerate(alphabet, start=1)}\n",
        "\n",
        "# Convert the string to lowercase and remove spaces\n",
        "text = input();\n",
        "text = text.lower().replace(\" \", \"\")\n",
        "\n",
        "# Convert each letter in the text to its corresponding number\n",
        "message_vector = np.array([alpha_to_num[letter] for letter in text])\n",
        "\n",
        "print(message_vector);\n"
      ],
      "metadata": {
        "colab": {
          "base_uri": "https://localhost:8080/"
        },
        "id": "bpU6LIJq1vcH",
        "outputId": "36b1dde9-337f-43c2-a73b-683123dd168f"
      },
      "execution_count": 24,
      "outputs": [
        {
          "output_type": "stream",
          "name": "stdout",
          "text": [
            "Hey how you doing\n",
            "[ 8  5 25  8 15 23 25 15 21  4 15  9 14  7]\n"
          ]
        }
      ]
    },
    {
      "cell_type": "markdown",
      "source": [
        "**Encode Vector using Encoding vecto**\n"
      ],
      "metadata": {
        "id": "ldnKJott41Xu"
      }
    },
    {
      "cell_type": "code",
      "source": [
        "\n",
        "def EncodeVector(encoding_vector, message_vector):\n",
        "    print(\":::> Encoding Vector\");\n",
        "    # Reshape encoding_vector to be a column vector with 4 row...\n",
        "\n"
      ],
      "metadata": {
        "id": "XU-v8qFf47kB"
      },
      "execution_count": 59,
      "outputs": []
    },
    {
      "cell_type": "code",
      "source": [
        "encoded_array_r = EncodeVector(encoding_vector,message_vector)"
      ],
      "metadata": {
        "colab": {
          "base_uri": "https://localhost:8080/"
        },
        "id": "GhR9hZev7QTK",
        "outputId": "1b9b9a0a-a40f-4d5d-d3c4-f6188afa8b55"
      },
      "execution_count": 60,
      "outputs": [
        {
          "output_type": "stream",
          "name": "stdout",
          "text": [
            ":::> Encoding Vector\n"
          ]
        }
      ]
    }
  ]
}